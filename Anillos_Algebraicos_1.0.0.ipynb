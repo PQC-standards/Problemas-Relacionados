{
 "cells": [
  {
   "cell_type": "markdown",
   "id": "f9320948-49ea-4a02-8134-4e19554b7f41",
   "metadata": {},
   "source": [
    "<p style=\"text-align: center;\"><span style=\"color: #ff0000;\"><strong><span style=\"font-size: x-large;\">\n",
    "    ANEXO XXX: Anillos Algebraicos</span></strong></span></p>\n",
    "\n",
    "<p style=\"text-align: center;\"><span style=\"color: black;\"><strong><span style=\"font-size: x-large;\">Realizado por:</span></strong></span></p>\n",
    "<p style=\"text-align: center;\"><span style=\"color: black;\"><strong><span style=\"font-size: x-large;\">Gabriel Vacaro Goytia</span></strong></span></p>\n",
    "<p style=\"text-align: center;\"><span style=\"color: black;\"><strong><span style=\"font-size: x-large;\">Ignacio Warleta Murcia</span></strong></span></p>"
   ]
  },
  {
   "cell_type": "markdown",
   "id": "5a0ea58c-bab3-4b94-8bd7-80fd2ad7791e",
   "metadata": {},
   "source": [
    "Tras  comprender de forma teórica que son los anillos algebraicos, sus propiedades, casos concretos como anillos polinomiales y otros conceptos tales como anillos ideales o anillos cocintes, procederemos a realizar una implementación de los mismos, en pos de familiarizarnos con ellos mediante la práctica.\n"
   ]
  },
  {
   "cell_type": "markdown",
   "id": "a39fdf59-93e9-437b-83ec-dc932e3db3d1",
   "metadata": {},
   "source": [
    "# Índice\n",
    "\n",
    "1. [Introducción](#1.-Introducción)\n",
    "2. [Configuración previa](#2.-Configuración-previa)\n",
    "3. [Concepto de anillo](#3.-Concepto-de-anillo)\n",
    "    - [Anillo unitario](#3.1-Anillo-unitario)\n",
    "    - [Anillo conmutativo](#3.2-Anillo-conmutativo)\n",
    "4. [Anillo polinómico](#4.-Anillo-polinomico)"
   ]
  },
  {
   "cell_type": "markdown",
   "id": "eec12a14-dc1a-4d60-beda-65cfda034871",
   "metadata": {},
   "source": [
    "---\n",
    "# 1. Introducción\n",
    "\n",
    "\n",
    "En este anexo se presenta la implementacion relativa al apartado 4.2 \"Retículos basados en anillos\" del TFG, donde haremos uso de ejemplos sencillos para comprender los conceptos relativos a este apartado. Este cuaderno tiene como objetivo complementar de forma práctica a la teoría planteada en el TFG.\n",
    "\n"
   ]
  },
  {
   "cell_type": "markdown",
   "id": "c82227f3-eb2e-40f9-a97c-48c358303f48",
   "metadata": {},
   "source": [
    "---\n",
    "# 2. Configuración previa"
   ]
  },
  {
   "cell_type": "code",
   "execution_count": 87,
   "id": "66e3cb39-3dd4-47a6-8738-22672a628cd7",
   "metadata": {},
   "outputs": [],
   "source": [
    "#Paquetes a importar\n",
    "\n"
   ]
  },
  {
   "cell_type": "code",
   "execution_count": 88,
   "id": "8272cae9-93d0-4bd3-bb85-cdca29b3043b",
   "metadata": {},
   "outputs": [],
   "source": [
    "#Funciones auxiliares utilizadas"
   ]
  },
  {
   "cell_type": "markdown",
   "id": "6c01e659-3907-4178-b295-4959ac026da6",
   "metadata": {},
   "source": [
    "---\n",
    "\n",
    "# 3. Concepto de anillo"
   ]
  },
  {
   "cell_type": "markdown",
   "id": "999e58f3-33db-4a92-bb3a-775da72e149c",
   "metadata": {},
   "source": [
    "En álgebra, un **anillo** es una estructura algebraica consistente en un conjunto equipado con dos operaciones binarias: la **adición** (+) y la **multiplicación** (·), cada una de estas operaciones deberá cumplir ciertas reglas.\n",
    "\n",
    "A continuación implementaremos una clase en **python** para definir el objeto *Ring*, y comprobaremos sus propiedades definidas en el documento principal mediante unos sencillos tests que probarán todas las reglas que deben cumplir ambas operacioens binarias para considerar el anillo como válido.\n"
   ]
  },
  {
   "cell_type": "code",
   "execution_count": 89,
   "id": "6fd48166-56a3-4cb9-8e7e-ffac420b0734",
   "metadata": {},
   "outputs": [],
   "source": [
    "class Ring:\n",
    "    def __init__(self, elements, add, mul, zero, one=None):\n",
    "        \"\"\"\n",
    "        Representa un anillo algebraico.\n",
    "        \n",
    "        :param elements: Conjunto de elementos del anillo.\n",
    "        :param add: Función binaria que define la adición.\n",
    "        :param mul: Función binaria que define la multiplicación.\n",
    "        :param zero: Elemento neutro aditivo.\n",
    "        :param one: (Opcional) Elemento neutro multiplicativo.\n",
    "        \"\"\"\n",
    "        self.elements = set(elements)\n",
    "        self.add = add\n",
    "        self.mul = mul\n",
    "        self.zero = zero\n",
    "        self.one = one\n",
    "\n",
    "        if zero not in elements:\n",
    "            raise ValueError(\"El elemento neutro aditivo debe estar en el conjunto de elementos.\")\n",
    "\n",
    "        if one and one not in elements:\n",
    "            raise ValueError(\"El elemento neutro multiplicativo debe estar en el conjunto de elementos.\")\n",
    "\n",
    "    # Propiedades de la suma\n",
    "    def is_closed_under_addition(self):\n",
    "        return all(self.add(a, b) in self.elements for a in self.elements for b in self.elements)\n",
    "\n",
    "    def is_addition_associative(self):\n",
    "        return all(self.add(self.add(a, b), c) == self.add(a, self.add(b, c))\n",
    "                   for a in self.elements for b in self.elements for c in self.elements)\n",
    "\n",
    "    def is_addition_commutative(self):\n",
    "        return all(self.add(a, b) == self.add(b, a) for a in self.elements for b in self.elements)\n",
    "\n",
    "    def has_additive_identity(self):\n",
    "        return all(self.add(a, self.zero) == a for a in self.elements)\n",
    "\n",
    "    def has_additive_inverses(self):\n",
    "        return all(any(self.add(a, b) == self.zero for b in self.elements) for a in self.elements)\n",
    "\n",
    "    # Propiedades del producto \n",
    "    def is_closed_under_multiplication(self):\n",
    "        return all(self.mul(a, b) in self.elements for a in self.elements for b in self.elements)\n",
    "\n",
    "    def is_multiplication_associative(self):\n",
    "        return all(self.mul(self.mul(a, b), c) == self.mul(a, self.mul(b, c))\n",
    "                   for a in self.elements for b in self.elements for c in self.elements)\n",
    "\n",
    "    def is_distributive(self):\n",
    "        return all(\n",
    "            self.mul(a, self.add(b, c)) == self.add(self.mul(a, b), self.mul(a, c)) and\n",
    "            self.mul(self.add(a, b), c) == self.add(self.mul(a, c), self.mul(b, c))\n",
    "            for a in self.elements for b in self.elements for c in self.elements\n",
    "        )\n",
    "\n",
    "    # FUNCIONES PARA ANILLOS UNITARIOS\n",
    "    def has_multiplication_identity(self):\n",
    "        return all(self.mul(a, self.one) == a for a in self.elements)\n",
    "\n",
    "    def is_unital_ring(self):\n",
    "        return Ring.has_multiplication_identity(self)\n",
    "        \n",
    "    # FUNCIONES PARA ANILLOS CONMUTATIVOS\n",
    "    def is_multiplication_conmutative(self):\n",
    "        return all(self.mul(a, b) == self.mul(b, a) for a in self.elements for b in self.elements)\n",
    "\n",
    "    def is_conmutative_ring(self):\n",
    "        return Ring.is_multiplication_conmutative(self)\n",
    "\n",
    "    # Método para verificar todas las propiedades del anillo\n",
    "    def test_ring_properties(self):\n",
    "        print(\"Propiedades de la suma\")\n",
    "        print(\"  ¿Cerradura bajo la adición?:\", self.is_closed_under_addition())\n",
    "        print(\"  ¿La suma es asociativa?:\", self.is_addition_associative())\n",
    "        print(\"  ¿La suma es conmutativa?:\", self.is_addition_commutative())\n",
    "        print(\"  ¿Tiene elemento neutro aditivo?:\", self.has_additive_identity())\n",
    "        print(\"  ¿Todos los elementos tienen inverso aditivo?:\", self.has_additive_inverses())\n",
    "        \n",
    "        print(\"\\nPropiedades del producto\")\n",
    "        print(\"  ¿Cerradura bajo la multiplicación?:\", self.is_closed_under_multiplication())\n",
    "        print(\"  ¿El producto es asociativo?:\", self.is_multiplication_associative())\n",
    "        print(\"  ¿El producto es distributivo respecto a la suma?:\", self.is_distributive())\n"
   ]
  },
  {
   "cell_type": "code",
   "execution_count": 90,
   "id": "35f06908-3890-4b94-8b07-948b08857c8e",
   "metadata": {},
   "outputs": [
    {
     "name": "stdout",
     "output_type": "stream",
     "text": [
      "Propiedades de la suma\n",
      "  ¿Cerradura bajo la adición?: True\n",
      "  ¿La suma es asociativa?: True\n",
      "  ¿La suma es conmutativa?: True\n",
      "  ¿Tiene elemento neutro aditivo?: True\n",
      "  ¿Todos los elementos tienen inverso aditivo?: True\n",
      "\n",
      "Propiedades del producto\n",
      "  ¿Cerradura bajo la multiplicación?: True\n",
      "  ¿El producto es asociativo?: True\n",
      "  ¿El producto es distributivo respecto a la suma?: True\n"
     ]
    }
   ],
   "source": [
    "# Ejemplo básico: Anillo de enteros módulo 5\n",
    "elements = {0, 1, 2, 3, 4}\n",
    "add = lambda a, b: (a + b) % 5\n",
    "mul = lambda a, b: (a * b) % 5\n",
    "zero = 0\n",
    "\n",
    "# Crear el anillo\n",
    "ring_mod_5 = Ring(elements, add, mul, zero)\n",
    "\n",
    "# Probar las propiedades del anillo\n",
    "ring_mod_5.test_ring_properties()"
   ]
  },
  {
   "cell_type": "code",
   "execution_count": 91,
   "id": "bbd1d394-f884-401e-a613-d841e567758d",
   "metadata": {},
   "outputs": [
    {
     "name": "stdout",
     "output_type": "stream",
     "text": [
      "Propiedades de la suma\n",
      "  ¿Cerradura bajo la adición?: True\n",
      "  ¿La suma es asociativa?: True\n",
      "  ¿La suma es conmutativa?: True\n",
      "  ¿Tiene elemento neutro aditivo?: True\n",
      "  ¿Todos los elementos tienen inverso aditivo?: True\n",
      "\n",
      "Propiedades del producto\n",
      "  ¿Cerradura bajo la multiplicación?: True\n",
      "  ¿El producto es asociativo?: True\n",
      "  ¿El producto es distributivo respecto a la suma?: True\n"
     ]
    }
   ],
   "source": [
    "# Ejemplo básico: Esto NO es un Anillo\n",
    "\"\"\"\n",
    "En este caso no se cumplen:\n",
    "    -La cerradura bajo adicion, un ejemplo es: 2+2 mod 5 = 4, y 4 no pertenece al conjunto de elementos.\n",
    "    -El elemento neutro aditivo, un ejemplo es: 5+0 mod 5 = 5 mod 5 = 0. Distinto de 5.\n",
    "    -Inverso aditivo, un ejemplo es: el inverso de 1 en el conjunto debería ser 4, pues 1+4 mod 5 = 0, pero el 4 no existe en el conjunto.\n",
    "    -Ceradura bajo multiplicación, un ejemplo es: 2*2 mod 5 = 4, que no existe en el conjunto.\n",
    "\n",
    "\"\"\"\n",
    "elements = {0, 1, 2, 3, 5}\n",
    "add = lambda a, b: (a + b) % 5\n",
    "mul = lambda a, b: (a * b) % 5\n",
    "zero = 0\n",
    "\n",
    "# Crear el anillo\n",
    "not_ring_mod_5 = Ring(elements, add, mul, zero)\n",
    "\n",
    "# Probar las propiedades del anillo\n",
    "ring_mod_5.test_ring_properties()\n"
   ]
  },
  {
   "cell_type": "markdown",
   "id": "91109dae-b427-4558-8093-b87eed542ac6",
   "metadata": {},
   "source": [
    "## 3.1 Anillo unitario\n",
    "\n",
    "\n",
    "Entendemos un **anillo unitario**, como un **anillo** en el que **SI** existe el **elemento neutro multiplicativo**.\n",
    "\n",
    "Es importante especificar antes el elemento neutro multiplicativo (atributo **one**) en el anillo, en caso contrario se producirá un **error**. Usaremos la siguiente función de la clase *Ring* definida anteriormente."
   ]
  },
  {
   "cell_type": "code",
   "execution_count": 92,
   "id": "84b61c6d-7eeb-4e10-9c9e-f714aa96e025",
   "metadata": {},
   "outputs": [
    {
     "name": "stdout",
     "output_type": "stream",
     "text": [
      "El anillo de elementos:  {0, 1, 2, 3, 4}\n",
      "¿Es un anillo unitario?\n",
      "True\n",
      "El conjunto de elementos:  {0, 1, 2, 3, 5}\n",
      "¿en caso de ser un anillo, sería unitario?\n",
      "False\n"
     ]
    }
   ],
   "source": [
    "ring_mod_5.one = 1\n",
    "print(\"El anillo de elementos: \",ring_mod_5.elements)\n",
    "print(\"¿Es un anillo unitario?\")\n",
    "print(Ring.is_unital_ring(ring_mod_5))\n",
    "\n",
    "not_ring_mod_5.one = 1\n",
    "print(\"El conjunto de elementos: \",not_ring_mod_5.elements)\n",
    "print(\"¿en caso de ser un anillo, sería unitario?\")\n",
    "print(Ring.is_unital_ring(not_ring_mod_5))"
   ]
  },
  {
   "cell_type": "markdown",
   "id": "357890c5-301b-4328-b9f3-cd85e37784cb",
   "metadata": {},
   "source": [
    "## 3.2 Anillo conmutativo\n",
    "\n",
    "Entendemos un **anillo conmutativo** como un **anillo** en el que **sí** se cumple la propiedad **conmutativa** del producto, es decir:\n",
    "\n",
    "$$\n",
    "a \\cdot b \\mod c = b \\cdot a \\mod c\n",
    "$$\n",
    "\n",
    "En otras palabras, el orden de los factores no altera el producto en el **anillo**"
   ]
  },
  {
   "cell_type": "code",
   "execution_count": 93,
   "id": "4167ca86-9e6a-42e4-9ff8-3505bfb56e10",
   "metadata": {},
   "outputs": [
    {
     "name": "stdout",
     "output_type": "stream",
     "text": [
      "El anillo de elementos:  {0, 1, 2, 3, 4}\n",
      "¿Es un anillo conmutativo?\n",
      "True\n",
      "El conjunto de elementos:  {0, 1, 2, 3, 5}\n",
      "¿En caso de ser un anillo, sería conmutativo?\n",
      "True\n"
     ]
    }
   ],
   "source": [
    "print(\"El anillo de elementos: \",ring_mod_5.elements)\n",
    "print(\"¿Es un anillo conmutativo?\")\n",
    "print(Ring.is_conmutative_ring(ring_mod_5))\n",
    "\n",
    "not_ring_mod_5.one = 1\n",
    "print(\"El conjunto de elementos: \",not_ring_mod_5.elements)\n",
    "print(\"¿En caso de ser un anillo, sería conmutativo?\")\n",
    "print(Ring.is_conmutative_ring(not_ring_mod_5))"
   ]
  },
  {
   "cell_type": "markdown",
   "id": "b3dcd2b0-e366-4502-aceb-f16c1f51f412",
   "metadata": {},
   "source": [
    "# 4. Anillo polinomico"
   ]
  },
  {
   "cell_type": "markdown",
   "id": "5a0b9ac7-2a89-4b39-b6dc-ab24e2b6a276",
   "metadata": {},
   "source": [
    "Una vez entendido el concepto de anillo, veremos un caso concreto de estos, **los anillos polinómicos**. Estos constituyen la base sobre la cual se definen los retículos sobre anillos y los módulos sobre anillos.\n",
    "\n",
    "Los **anillos polinómicos** son una estructura matemática formada por polinomios con coeficientes de un anillo dado, combinados bajo las operaciones de suma y multiplicación de polinomios. El anillo de polinomios en una variable $x$, denotado por $R[x]$, es el conjunto de expresiones llamadas polinomios en $x$, que tienen la forma:\n",
    "\n",
    "$$\n",
    "f(x) = a_n x^n + a_{n-1} x^{n-1} + \\ldots + a_1 x + a_0,\n",
    "$$\n",
    "\n",
    "donde $n \\geq 0$ es el grado del polinomio, $a_i \\in R$ para $i = 0, 1, \\ldots, n$, y $x$ es una variable formal.\n"
   ]
  },
  {
   "cell_type": "code",
   "execution_count": 94,
   "id": "90cc3b41-05b9-4900-86f3-7c0adb5beaa8",
   "metadata": {},
   "outputs": [],
   "source": [
    "class PolynomialRing:\n",
    "    \"\"\"\n",
    "    Representa un anillo de polinomios R[x] basado en un anillo R.\n",
    "    \"\"\"\n",
    "\n",
    "    def __init__(self, base_ring):\n",
    "        \"\"\"\n",
    "        Inicializa el anillo de polinomios a partir de un anillo base.\n",
    "\n",
    "        :param base_ring: Un objeto de la clase Ring que representa el anillo base R.\n",
    "        \"\"\"\n",
    "        self.base_ring = base_ring  # Guarda el anillo base como atributo para usarlo en operaciones\n",
    "\n",
    "    def add(self, p, q):\n",
    "        \"\"\"\n",
    "        Realiza la suma de dos polinomios p y q.\n",
    "\n",
    "        :param p: Lista de coeficientes del primer polinomio.\n",
    "        :param q: Lista de coeficientes del segundo polinomio.\n",
    "        :return: Lista de coeficientes del polinomio suma.\n",
    "        \"\"\"\n",
    "        degree = max(len(p), len(q))  # Determina el grado máximo de los dos polinomios\n",
    "        result = [self.base_ring.zero] * degree  # Crea una lista de ceros del tamaño adecuado\n",
    "        for i in range(degree):  # Itera sobre cada término hasta el grado máximo\n",
    "            a = p[i] if i < len(p) else self.base_ring.zero  # Coeficiente de p o 0 si no existe\n",
    "            b = q[i] if i < len(q) else self.base_ring.zero  # Coeficiente de q o 0 si no existe\n",
    "            result[i] = self.base_ring.add(a, b)  # Suma los coeficientes usando la suma del anillo base\n",
    "        return result  # Retorna el polinomio resultante\n",
    "\n",
    "    def multiply(self, p, q):\n",
    "        \"\"\"\n",
    "        Realiza la multiplicación de dos polinomios p y q.\n",
    "\n",
    "        :param p: Lista de coeficientes del primer polinomio.\n",
    "        :param q: Lista de coeficientes del segundo polinomio.\n",
    "        :return: Lista de coeficientes del polinomio producto.\n",
    "        \"\"\"\n",
    "        degree = len(p) + len(q) - 1  # Grado del producto es suma de los grados menos 1\n",
    "        result = [self.base_ring.zero] * degree  # Inicializa una lista para el resultado\n",
    "        for i in range(len(p)):  # Itera sobre los coeficientes de p\n",
    "            for j in range(len(q)):  # Itera sobre los coeficientes de q\n",
    "                # Multiplica los coeficientes y acumula en la posición adecuada\n",
    "                result[i + j] = self.base_ring.add(\n",
    "                    result[i + j],  # Acumula el valor existente\n",
    "                    self.base_ring.mul(p[i], q[j])  # Producto de coeficientes\n",
    "                )\n",
    "        return result  # Retorna el polinomio resultante\n",
    "\n",
    "    def display_polynomial(self, p):\n",
    "        \"\"\"\n",
    "        Convierte un polinomio representado como lista de coeficientes en una cadena legible.\n",
    "\n",
    "        :param p: Lista de coeficientes del polinomio.\n",
    "        :return: Cadena que representa el polinomio.\n",
    "        \"\"\"\n",
    "        terms = []  # Lista para almacenar términos como cadenas\n",
    "        for i, coeff in enumerate(p):  # Itera sobre cada coeficiente\n",
    "            if coeff != self.base_ring.zero:  # Ignora términos con coeficiente 0\n",
    "                # Agrega el término con el formato adecuado (\"coef x^i\")\n",
    "                terms.append(f\"{coeff}x^{i}\" if i > 0 else str(coeff))\n",
    "        return \" + \".join(terms) if terms else \"0\"  # Junta los términos o retorna \"0\" si no hay términos\n",
    "\n",
    "    def is_commutative(self):\n",
    "        \"\"\"\n",
    "        Verifica si el anillo de polinomios es conmutativo.\n",
    "\n",
    "        :return: True si el anillo base es conmutativo, False en caso contrario.\n",
    "        \"\"\"\n",
    "        return self.base_ring.is_multiplication_conmutative()\n",
    "\n",
    "    def has_multiplicative_identity(self):\n",
    "        \"\"\"\n",
    "        Verifica si el anillo de polinomios tiene un elemento neutro multiplicativo.\n",
    "\n",
    "        :return: True si el anillo base tiene un elemento neutro multiplicativo, False en caso contrario.\n",
    "        \"\"\"\n",
    "        return self.base_ring.has_multiplication_identity()\n",
    "\n",
    "    def is_integral_domain(self):\n",
    "        \"\"\"\n",
    "        Verifica si el anillo de polinomios es un dominio entero.\n",
    "\n",
    "        :return: True si el anillo base es un dominio entero, False en caso contrario.\n",
    "        \"\"\"\n",
    "        if not self.base_ring.is_distributive():  # Verifica la propiedad distributiva en el anillo base\n",
    "            return False\n",
    "        for a in self.base_ring.elements:  # Recorre cada elemento del anillo base\n",
    "            for b in self.base_ring.elements:\n",
    "                # Si hay divisores de cero, no es un dominio entero\n",
    "                if a != self.base_ring.zero and b != self.base_ring.zero:\n",
    "                    if self.base_ring.mul(a, b) == self.base_ring.zero:\n",
    "                        return False\n",
    "        return True  # Es un dominio entero si no hay divisores de cero\n",
    "\n",
    "    def test_polynomial_ring(self):\n",
    "        \"\"\"\n",
    "        Prueba las propiedades y operaciones básicas del anillo de polinomios.\n",
    "        \"\"\"\n",
    "        # Verifica las propiedades fundamentales\n",
    "        print(\"¿Es conmutativo?\", self.is_commutative())\n",
    "        print(\"¿Tiene elemento neutro multiplicativo?\", self.has_multiplicative_identity())\n",
    "        print(\"¿Es un dominio entero?\", self.is_integral_domain())\n",
    "\n"
   ]
  },
  {
   "cell_type": "code",
   "execution_count": 95,
   "id": "ee0b0732-d11c-4826-a99c-30b235689871",
   "metadata": {},
   "outputs": [
    {
     "name": "stdout",
     "output_type": "stream",
     "text": [
      "anillo base:  {0, 1, 2, 3, 4}\n",
      "Ejemplos de polinomios pertenecientes al anillo: \n",
      "p = 1 + 2x^1 + 3x^2\n",
      "q = 1x^1\n",
      "Operaciones entre ambos polinomios: \n",
      "p + q = 1 + 3x^1 + 3x^2\n",
      "p * q = 1x^1 + 2x^2 + 3x^3\n"
     ]
    }
   ],
   "source": [
    "# Crear un anillo polinomial sobre el anillo anteriormente definido\n",
    "poly_ring = PolynomialRing(ring_mod_5)\n",
    "\n",
    "# Probar las propiedades del anillo de polinomios\n",
    "print(\"anillo base: \",ring_mod_5.elements)\n",
    "print(\"Ejemplos de polinomios pertenecientes al anillo: \")\n",
    "\n",
    "p = [1, 2, 3]  # Representa el polinomio 1 + 2x + 3x^2\n",
    "q = [0, 1]     # Representa el polinomio x\n",
    "\n",
    "print(f\"p = {poly_ring.display_polynomial(p)}\")  # Muestra p\n",
    "print(f\"q = {poly_ring.display_polynomial(q)}\")  # Muestra q\n",
    "\n",
    "print(\"Operaciones entre ambos polinomios: \")\n",
    "\n",
    "# Realizar operaciones con polinomios\n",
    "sum_result = poly_ring.add(p, q)  # Suma de p y q\n",
    "mul_result = poly_ring.multiply(p, q)  # Producto de p y q\n",
    "\n",
    "# Mostrar los resultados de las operaciones\n",
    "print(f\"p + q = {poly_ring.display_polynomial(sum_result)}\")  # Muestra la suma\n",
    "print(f\"p * q = {poly_ring.display_polynomial(mul_result)}\")  # Muestra el producto\n"
   ]
  },
  {
   "cell_type": "code",
   "execution_count": 96,
   "id": "2475fc76-97e5-4a15-bb06-9bdfb61f5158",
   "metadata": {},
   "outputs": [
    {
     "name": "stdout",
     "output_type": "stream",
     "text": [
      "anillo base:  {0, 1, 2, 3, 4}\n",
      "¿Es conmutativo? True\n",
      "¿Tiene elemento neutro multiplicativo? True\n",
      "¿Es un dominio entero? True\n"
     ]
    }
   ],
   "source": [
    "# Crear un anillo polinomial sobre el anillo anteriormente definido\n",
    "poly_ring = PolynomialRing(ring_mod_5)\n",
    "\n",
    "# Probar las propiedades del anillo de polinomios\n",
    "print(\"anillo base: \",ring_mod_5.elements)\n",
    "\n",
    "# Probar las propiedades del anillo de polinomios\n",
    "poly_ring.test_polynomial_ring()"
   ]
  },
  {
   "cell_type": "markdown",
   "id": "02877fdd-7131-47e6-b0cd-71c9660fdec0",
   "metadata": {},
   "source": [
    "## 4.1 Anillo polinomico multivariable"
   ]
  },
  {
   "cell_type": "markdown",
   "id": "ca3af2d7-163d-4602-97aa-c824bed582e7",
   "metadata": {},
   "source": [
    "Si tomamos $n$ variables $x_1, x_2, \\dots, x_n$, obtenemos $R[x_1, x_2, \\dots, x_n]$, el conjunto de polinomios donde los monomios son productos de potencias de $x_1, x_2, \\dots, x_n$, y los coeficientes están en el anillo base $R$. \n",
    "\n",
    "Por ejemplo, en el caso de dos variables, el anillo de polinomios sería $R[x, y]$, y un polinomio en este anillo podría tener la siguiente forma:\n",
    "\n",
    "$$\n",
    "f(x, y) = a_{2,1} x^2 y + a_{1,0} x + a_{0,2} y^2 + a_{0,0}\n",
    "$$\n",
    "\n",
    "donde los coeficientes $a_{k_1, k_2} \\in R$ corresponden a los coeficientes de cada término, y $x$ y $y$ son las variables. Los exponentes de las variables son no negativos, y representan los grados de los monomios en sus respectivas variables.\n"
   ]
  },
  {
   "cell_type": "code",
   "execution_count": 97,
   "id": "22b15819-ee4a-4f2a-be59-b5908193d000",
   "metadata": {},
   "outputs": [],
   "source": [
    "class PolynomialRingMultipleVars:\n",
    "    def __init__(self, base_ring, num_vars):\n",
    "        \"\"\"\n",
    "        Crea un anillo de polinomios con varias variables sobre un anillo base.\n",
    "        \n",
    "        :param base_ring: Un anillo base (por ejemplo, Z/5Z).\n",
    "        :param num_vars: El número de variables en el anillo de polinomios.\n",
    "        \"\"\"\n",
    "        self.base_ring = base_ring\n",
    "        self.num_vars = num_vars\n",
    "\n",
    "    def display_polynomial(self, polynomial):\n",
    "        \"\"\"\n",
    "        Muestra el polinomio en formato legible. El polinomio es representado\n",
    "        como un diccionario, donde las claves son los exponentes de las variables,\n",
    "        y los valores son los coeficientes.\n",
    "        \n",
    "        :param polynomial: El polinomio a mostrar, como diccionario de coeficientes.\n",
    "        :return: Una cadena representando el polinomio.\n",
    "        \"\"\"\n",
    "        terms = []\n",
    "        for (exp_x, exp_y), coeff in sorted(polynomial.items(), key=lambda item: (-item[0][0], -item[0][1])):\n",
    "            if coeff != 0:\n",
    "                # Eliminar las potencias 0 de las variables\n",
    "                if exp_x == 0 and exp_y == 0:\n",
    "                    term = f\"{coeff}\"  # Solo el coeficiente si ambas son 0\n",
    "                elif exp_x == 0:\n",
    "                    term = f\"{coeff}y^{exp_y}\"  # Solo mostrar y si x está elevado a 0\n",
    "                elif exp_y == 0:\n",
    "                    term = f\"{coeff}x^{exp_x}\"  # Solo mostrar x si y está elevado a 0\n",
    "                else:\n",
    "                    term = f\"{coeff}x^{exp_x}y^{exp_y}\"  # Mostrar ambas x y y si ambas tienen exponente\n",
    "\n",
    "                # Eliminar el exponente 1 para las variables y mejorar la legibilidad\n",
    "                if exp_x == 1:\n",
    "                    term = term.replace(\"x^1\", \"x\")\n",
    "                if exp_y == 1:\n",
    "                    term = term.replace(\"y^1\", \"y\")\n",
    "                \n",
    "                # Eliminar coeficientes 1 o -1\n",
    "                if coeff == 1:\n",
    "                    term = term.replace(\"1\", \"\")\n",
    "                elif coeff == -1:\n",
    "                    term = term.replace(\"-1\", \"-\")\n",
    "\n",
    "                terms.append(term)\n",
    "\n",
    "        # Ordenar los términos por los exponentes de x y luego por los de y\n",
    "        return \" + \".join(terms) if terms else \"0\"  # Unir los términos con \"+\" o devolver 0\n",
    "\n",
    "    def add(self, p1, p2):\n",
    "        \"\"\"\n",
    "        Realiza la suma de dos polinomios en varias variables.\n",
    "        \n",
    "        :param p1: Primer polinomio, como diccionario de coeficientes.\n",
    "        :param p2: Segundo polinomio, como diccionario de coeficientes.\n",
    "        :return: El polinomio resultante de la suma.\n",
    "        \"\"\"\n",
    "        result = {}\n",
    "        # Sumar coeficientes correspondientes\n",
    "        all_terms = set(p1.keys()).union(set(p2.keys()))\n",
    "        for term in all_terms:\n",
    "            result[term] = self.base_ring.add(p1.get(term, 0), p2.get(term, 0))\n",
    "        return result\n",
    "\n",
    "    def mul(self, p1, p2):\n",
    "        \"\"\"\n",
    "        Realiza la multiplicación de dos polinomios en varias variables.\n",
    "        \n",
    "        :param p1: Primer polinomio, como diccionario de coeficientes.\n",
    "        :param p2: Segundo polinomio, como diccionario de coeficientes.\n",
    "        :return: El polinomio resultante de la multiplicación.\n",
    "        \"\"\"\n",
    "        result = {}\n",
    "        # Multiplicar cada término de p1 con cada término de p2\n",
    "        for (exp_x1, exp_y1), coeff1 in p1.items():\n",
    "            for (exp_x2, exp_y2), coeff2 in p2.items():\n",
    "                new_exp_x = exp_x1 + exp_x2\n",
    "                new_exp_y = exp_y1 + exp_y2\n",
    "                new_coeff = self.base_ring.mul(coeff1, coeff2)\n",
    "                if (new_exp_x, new_exp_y) in result:\n",
    "                    result[(new_exp_x, new_exp_y)] = self.base_ring.add(result[(new_exp_x, new_exp_y)], new_coeff)\n",
    "                else:\n",
    "                    result[(new_exp_x, new_exp_y)] = new_coeff\n",
    "        return result"
   ]
  },
  {
   "cell_type": "code",
   "execution_count": 98,
   "id": "4ace30f7-ae7b-42c1-ac0c-3cf60f894c54",
   "metadata": {},
   "outputs": [
    {
     "name": "stdout",
     "output_type": "stream",
     "text": [
      "Polinomio p1: 2x^2 + 3xy + 4y^2\n",
      "Polinomio p2: x + y\n",
      "p1 + p2: 2x^2 + 3xy + x + 4y^2 + y\n",
      "p1 * p2: 2x^3 + 2xy^2 + 4y^3\n"
     ]
    }
   ],
   "source": [
    "# Crear un anillo de polinomios con 2 variables sobre Z/5Z\n",
    "poly_ring = PolynomialRingMultipleVars(ring_mod_5, 2)\n",
    "\n",
    "# Crear dos polinomios de ejemplo con dos variables (x, y)\n",
    "p1 = {(2, 0): 2, (1, 1): 3, (0, 2): 4}  # p1 = 2x^2 + 3xy + 4y^2\n",
    "p2 = {(1, 0): 1, (0, 1): 1}  # p2 = x + y\n",
    "\n",
    "# Mostrar los polinomios\n",
    "print(f\"Polinomio p1: {poly_ring.display_polynomial(p1)}\")\n",
    "print(f\"Polinomio p2: {poly_ring.display_polynomial(p2)}\")\n",
    "\n",
    "# Sumar los polinomios\n",
    "sum_polynomial = poly_ring.add(p1, p2)\n",
    "print(f\"p1 + p2: {poly_ring.display_polynomial(sum_polynomial)}\")\n",
    "\n",
    "# Multiplicar los polinomios\n",
    "product_polynomial = poly_ring.mul(p1, p2)\n",
    "print(f\"p1 * p2: {poly_ring.display_polynomial(product_polynomial)}\")"
   ]
  },
  {
   "cell_type": "markdown",
   "id": "bbf824cf-d68b-40e3-ab1f-a1ab0036a9de",
   "metadata": {},
   "source": [
    "# 5. Anillo ideal"
   ]
  },
  {
   "cell_type": "markdown",
   "id": "d82c2252-5f8b-4492-b2b4-46bf38c1a8a9",
   "metadata": {},
   "source": [
    "Un **ideal** es un subconjunto especial de un anillo que generaliza la idea de divisibilidad. Un ideal tiene dos propiedades fundamentales:\n",
    "\n",
    "1. **Suma cerrada**: La suma de dos elementos dentro del ideal sigue estando en el ideal.\n",
    "2. **Multiplicación absorbente**: Si un elemento del anillo se multiplica por un elemento del ideal, el resultado sigue perteneciendo al ideal.\n",
    "\n",
    "Los ideales permiten dividir el anillo en partes y son esenciales para la construcción de **anillos cocientes**. Un ejemplo simple de ideal es el conjunto de múltiplos de un número en el anillo de los enteros $\\mathbb{Z}$, como el conjunto de múltiplos de 3, denotado como $3\\mathbb{Z} = \\{ \\dots, -6, -3, 0, 3, 6, \\dots \\}$, que es un ideal en $\\mathbb{Z}$."
   ]
  },
  {
   "cell_type": "code",
   "execution_count": 115,
   "id": "c2123dbd-c47a-46f9-831b-6dfb232983c4",
   "metadata": {},
   "outputs": [],
   "source": [
    "class Ideal:\n",
    "    def __init__(self, base_ring, ideal_elements):\n",
    "        \"\"\"\n",
    "        Crea un ideal dentro de un anillo base.\n",
    "\n",
    "        :param base_ring: Un anillo base (por ejemplo, Z/12Z).\n",
    "        :param ideal_elements: Conjunto de elementos que forman el ideal.\n",
    "        \"\"\"\n",
    "        self.base_ring = base_ring\n",
    "        self.ideal_elements = set(ideal_elements)\n",
    "        self.generated_ideal = self.generate_ideal()\n",
    "\n",
    "    def generate_ideal(self):\n",
    "        \"\"\"\n",
    "        Genera el ideal multiplicando los generadores por todos los elementos del anillo base.\n",
    "\n",
    "        :return: El conjunto de elementos generados por los generadores del ideal.\n",
    "        \"\"\"\n",
    "        ideal_elements = set()\n",
    "        # Generar los múltiplos de los elementos del ideal\n",
    "        for gen in self.ideal_elements:\n",
    "            for elem in self.base_ring:\n",
    "                ideal_elements.add((gen * elem) % len(self.base_ring))  # Multiplicación módulo\n",
    "        return ideal_elements\n",
    "\n",
    "    def is_closed_under_addition(self):\n",
    "        \"\"\"\n",
    "        Verifica si el ideal es cerrado bajo la adición.\n",
    "\n",
    "        :return: True si el ideal es cerrado bajo la adición, False si no lo es.\n",
    "        \"\"\"\n",
    "        for a in self.generated_ideal:\n",
    "            for b in self.generated_ideal:\n",
    "                if (a + b) % len(self.base_ring) not in self.generated_ideal:\n",
    "                    return False\n",
    "        return True\n",
    "\n",
    "    def is_absorbing(self, ring_element):\n",
    "        \"\"\"\n",
    "        Verifica la propiedad de multiplicación absorbente.\n",
    "\n",
    "        :param ring_element: Un elemento del anillo base.\n",
    "        :return: True si la propiedad de multiplicación absorbente se cumple.\n",
    "        \"\"\"\n",
    "        for ideal_elem in self.generated_ideal:\n",
    "            if (ring_element * ideal_elem) % len(self.base_ring) not in self.generated_ideal:\n",
    "                return False\n",
    "        return True\n"
   ]
  },
  {
   "cell_type": "code",
   "execution_count": 117,
   "id": "1722c59a-edad-4056-a1c6-b727efbcc4ce",
   "metadata": {},
   "outputs": [
    {
     "name": "stdout",
     "output_type": "stream",
     "text": [
      "Anillo base Z/12Z: [0, 1, 2, 3, 4, 5, 6, 7, 8, 9, 10, 11]\n",
      "Ideal generado por 3 en Z/12Z: [0, 3, 6, 9]\n",
      "¿Es cerrado bajo adición? True\n",
      "¿Multiplicación absorbente con 2? True\n"
     ]
    }
   ],
   "source": [
    "# Crear el anillo Z/12Z\n",
    "ring_Z_12 = list(range(12))  # El conjunto {0, 1, 2, ..., 11}\n",
    "\n",
    "# Crear un ideal generado por 3 en Z/12Z (los múltiplos de 3)\n",
    "ideal_3 = Ideal(ring_Z_12, [3])  # Los múltiplos de 3 en Z/12Z\n",
    "\n",
    "# Mostrar el anillo base y el ideal generado\n",
    "print(f\"Anillo base Z/12Z: {ring_Z_12}\")\n",
    "print(f\"Ideal generado por 3 en Z/12Z: {sorted(ideal_3.generated_ideal)}\")\n",
    "\n",
    "# Verificar si el ideal es cerrado bajo adición\n",
    "print(\"¿Es cerrado bajo adición?\", ideal_3.is_closed_under_addition())\n",
    "\n",
    "# Verificar si el ideal tiene la propiedad de multiplicación absorbente\n",
    "# Probamos con el elemento 2 de Z/12Z\n",
    "print(\"¿Multiplicación absorbente con 2?\", ideal_3.is_absorbing(2))\n"
   ]
  },
  {
   "cell_type": "markdown",
   "id": "ca031c51-9694-41bd-8bbd-87a99184baa6",
   "metadata": {},
   "source": [
    "# 6. Anillo Cociente"
   ]
  },
  {
   "cell_type": "markdown",
   "id": "d53d0536-a1ec-48e1-a3c6-8b053b8957fa",
   "metadata": {},
   "source": [
    "Un **anillo cociente** $R/I$ se obtiene al dividir un anillo $R$ por un ideal $I$. Los elementos del anillo cociente son clases de equivalencia de los elementos de $R$, donde dos elementos $a$ y $b$ se consideran iguales si su diferencia $a - b$ pertenece al ideal $I$. En este nuevo anillo, las operaciones de suma y multiplicación se definen entre estas clases de equivalencia.\n",
    "\n",
    "Por ejemplo, el anillo cociente $\\mathbb{Z}/3\\mathbb{Z}$ tiene tres elementos: $[0], [1], [2]$, que representan los restos posibles al dividir entre 3. Las operaciones se realizan tomando los residuos de la suma y multiplicación en $\\mathbb{Z}$ módulo 3.\n",
    "\n",
    "El anillo cociente simplifica las estructuras algebraicas y tiene aplicaciones en teoría de números y álgebra.\n"
   ]
  },
  {
   "cell_type": "code",
   "execution_count": 126,
   "id": "78ab64f0-4a10-491d-809f-926f97238ae2",
   "metadata": {},
   "outputs": [],
   "source": [
    "class QuotientRing:\n",
    "    def __init__(self, modulus):\n",
    "        \"\"\"\n",
    "        Crea un anillo cociente Z/nZ.\n",
    "        \n",
    "        :param modulus: El número n en Z/nZ.\n",
    "        \"\"\"\n",
    "        self.modulus = modulus\n",
    "        self.elements = [0, 1, 2]  # Elementos en Z/3Z son [0], [1], [2]\n",
    "    \n",
    "    def add(self, a, b):\n",
    "        \"\"\"\n",
    "        Realiza la suma en el anillo cociente Z/3Z.\n",
    "        \n",
    "        :param a: Primer elemento.\n",
    "        :param b: Segundo elemento.\n",
    "        :return: Resultado de la suma en Z/3Z.\n",
    "        \"\"\"\n",
    "        return (a + b) % self.modulus\n",
    "    \n",
    "    def multiply(self, a, b):\n",
    "        \"\"\"\n",
    "        Realiza la multiplicación en el anillo cociente Z/3Z.\n",
    "        \n",
    "        :param a: Primer elemento.\n",
    "        :param b: Segundo elemento.\n",
    "        :return: Resultado de la multiplicación en Z/3Z.\n",
    "        \"\"\"\n",
    "        return (a * b) % self.modulus\n",
    "\n",
    "    def display(self):\n",
    "        \"\"\"Muestra los elementos del anillo cociente y las operaciones realizadas.\"\"\"\n",
    "        print(\"Elementos en Z/3Z: [0], [1], [2]\")\n",
    "        \n",
    "        # Operaciones de suma\n",
    "        print(\"\\nOperaciones de suma:\")\n",
    "        for a in self.elements:\n",
    "            for b in self.elements:\n",
    "                print(f\"[{a}] + [{b}] = [{self.add(a, b)}]\")\n",
    "        \n",
    "        # Operaciones de multiplicación\n",
    "        print(\"\\nOperaciones de multiplicación:\")\n",
    "        for a in self.elements:\n",
    "            for b in self.elements:\n",
    "                print(f\"[{a}] * [{b}] = [{self.multiply(a, b)}]\")\n",
    "\n",
    "\n"
   ]
  },
  {
   "cell_type": "code",
   "execution_count": 127,
   "id": "18ece3c8-2821-48ef-b5c9-8c1a34735a72",
   "metadata": {},
   "outputs": [
    {
     "name": "stdout",
     "output_type": "stream",
     "text": [
      "Elementos en Z/3Z: [0], [1], [2]\n",
      "\n",
      "Operaciones de suma:\n",
      "[0] + [0] = [0]\n",
      "[0] + [1] = [1]\n",
      "[0] + [2] = [2]\n",
      "[1] + [0] = [1]\n",
      "[1] + [1] = [2]\n",
      "[1] + [2] = [0]\n",
      "[2] + [0] = [2]\n",
      "[2] + [1] = [0]\n",
      "[2] + [2] = [1]\n",
      "\n",
      "Operaciones de multiplicación:\n",
      "[0] * [0] = [0]\n",
      "[0] * [1] = [0]\n",
      "[0] * [2] = [0]\n",
      "[1] * [0] = [0]\n",
      "[1] * [1] = [1]\n",
      "[1] * [2] = [2]\n",
      "[2] * [0] = [0]\n",
      "[2] * [1] = [2]\n",
      "[2] * [2] = [1]\n"
     ]
    }
   ],
   "source": [
    "# Crear el anillo cociente Z/3Z\n",
    "quotient_ring = QuotientRing(3)\n",
    "\n",
    "# Mostrar operaciones de suma y multiplicación\n",
    "quotient_ring.display()"
   ]
  },
  {
   "cell_type": "code",
   "execution_count": null,
   "id": "942b0a6f-8841-4369-96ab-d386f08b820f",
   "metadata": {},
   "outputs": [],
   "source": []
  }
 ],
 "metadata": {
  "kernelspec": {
   "display_name": "Python 3 (ipykernel)",
   "language": "python",
   "name": "python3"
  },
  "language_info": {
   "codemirror_mode": {
    "name": "ipython",
    "version": 3
   },
   "file_extension": ".py",
   "mimetype": "text/x-python",
   "name": "python",
   "nbconvert_exporter": "python",
   "pygments_lexer": "ipython3",
   "version": "3.12.7"
  }
 },
 "nbformat": 4,
 "nbformat_minor": 5
}
