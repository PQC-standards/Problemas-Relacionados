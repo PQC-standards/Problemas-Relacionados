{
 "cells": [
  {
   "cell_type": "markdown",
   "id": "eb7035ba-76f9-4b5c-860f-79b394f5a789",
   "metadata": {},
   "source": [
    "<p style=\"text-align: center;\"><span style=\"color: #ff0000;\"><strong><span style=\"font-size: x-large;\">\n",
    "    ANEXO XXX: ALGORITMOS PKE</span></strong></span></p>\n",
    "\n",
    "<p style=\"text-align: center;\"><span style=\"color: black;\"><strong><span style=\"font-size: x-large;\">Realizado por:</span></strong></span></p>\n",
    "<p style=\"text-align: center;\"><span style=\"color: black;\"><strong><span style=\"font-size: x-large;\">Gabriel Vacaro Goytia</span></strong></span></p>\n",
    "<p style=\"text-align: center;\"><span style=\"color: black;\"><strong><span style=\"font-size: x-large;\">Ignacio Warleta Murcia</span></strong></span></p>"
   ]
  },
  {
   "cell_type": "markdown",
   "id": "df62b8b8-8cce-4367-aa56-ce3b9477298b",
   "metadata": {},
   "source": [
    "Este notebook contiene una implementación de los algoritmos fundamentales del esquema de cifrado post–cuántico Kyber, en particular el KyberPKE (Public Key Encryption). Kyber es un sistema criptográfico basado en el problema de Redes Lattice y es uno de los candidatos más destacados para ser parte del estándar de criptografía post-cuántica propuesto por el NIST.\n",
    "\n",
    "Organizamos el anexo según el siguiente índice:"
   ]
  },
  {
   "cell_type": "markdown",
   "id": "d7ec3796-72c9-4fb0-9d58-04688eebaab5",
   "metadata": {},
   "source": [
    "# Índice\n",
    "\n",
    "1. [Introducción](#1.-Introducción)\n",
    "2. [Configuración previa](#2.-Configuracion-previa)\n",
    "3. [Algoritmo de generación de claves](#3.-Algoritmo-de-generacion-de-claves)\n",
    "4. [Algoritmo de cifrado](#4.-Algoritmo-de-cifrado)\n",
    "5. [Algoritmo de descifrado](#5.-Algoritmo-de-descifrado)\n",
    "6. [Ejemplo de uso](#6.-Ejemplo-de-uso)"
   ]
  },
  {
   "cell_type": "markdown",
   "id": "85028d54-5473-42b5-965d-c7673c4d0a69",
   "metadata": {},
   "source": [
    "---\n",
    "# 1. Introducción\n",
    "\n",
    "\n",
    "\n",
    "\n"
   ]
  },
  {
   "cell_type": "markdown",
   "id": "8cf7f4ec-77dc-4c7f-899f-bced453cd063",
   "metadata": {},
   "source": [
    "Este notebook cuenta con los 3 algoritmos relativos al PKE de Kyber–KEM:\n",
    "\n",
    "- Generación de claves (Key Generation) <br>\n",
    "- Cifrado (Encryption) <br>\n",
    "- Descifrado (Decryption) <br>\n",
    "\n",
    "El propósito de esta implementación es comprender los detalles detrás de cada fase del esquema KyberPKE de manera didáctica, con especial énfasis en los aspectos técnicos que permiten asegurar la privacidad y la integridad de la comunicación en un entorno potencialmente afectado por computadoras cuánticas.\n"
   ]
  },
  {
   "cell_type": "markdown",
   "id": "31260c63-0d71-4dd1-9967-f6948f83a982",
   "metadata": {},
   "source": [
    "---\n",
    "# 2. Configuracion previa"
   ]
  },
  {
   "cell_type": "markdown",
   "id": "6d056542-08d0-4001-a8df-9220cb94de3b",
   "metadata": {},
   "source": [
    "A continuación, se muestra la configuración previa a ejecutar y los parámetros a definir. En este caso hemos optado por un primo q relativamente pequeño, 743, dado su caracter didáctico, ya que, de esta manera se puede apreciar ligeramente el error que se produce al descifrar el mensaje. Por supuesto, el usuario es libre de cambiar este primo a su gusto y comprobar por su cuenta como se maneja el error."
   ]
  },
  {
   "cell_type": "code",
   "execution_count": 1,
   "id": "8a0f89bb-5102-440a-9527-1765a28c11a2",
   "metadata": {},
   "outputs": [],
   "source": [
    "#MODULOS A IMPORTAR\n",
    "import numpy as np"
   ]
  },
  {
   "cell_type": "code",
   "execution_count": 2,
   "id": "68c4d54a-c727-4964-b06b-43cde8a9ff22",
   "metadata": {},
   "outputs": [],
   "source": [
    "# Parámetros básicos\n",
    "q = 743  # Un número primo pequeño típico en Kyber podría ser 3329\n",
    "k = 3  # Tamaño del vector/matriz (varía según los estándares Kyber-512, 768, 1024)\n",
    "mu_1 = 1.0  # Parámetro para la distribución de error más controlado (menor desviación estándar)"
   ]
  },
  {
   "cell_type": "markdown",
   "id": "137d90d2-be0e-4947-9f8d-868d1cd6aaec",
   "metadata": {},
   "source": [
    "---\n",
    "# 3. Algoritmo de generacion de claves"
   ]
  },
  {
   "cell_type": "markdown",
   "id": "9f91bfcc-aba6-4adc-8948-b2f7817063d3",
   "metadata": {},
   "source": [
    "Primeramente, tenemos algunas funciones auxiliares que nos ayudan a generar una semilla aleatoria que utilizaremos para inicializar y generar la matriz pública A. Esta semilla garantiza que la generación de claves sea determinista y reproducible, pero a la vez, aleatoria."
   ]
  },
  {
   "cell_type": "code",
   "execution_count": 3,
   "id": "33530b6a-b865-458e-aa79-2b6466cb77b2",
   "metadata": {},
   "outputs": [],
   "source": [
    "#Funciones auxiliares \n",
    "\n",
    "# Función para generar una semilla aleatoria\n",
    "def generate_seed():\n",
    "    return np.random.bytes(16)  # 256 bits de semilla aleatoria\n",
    "\n",
    "# Función de generación pseudoaleatoria de la matriz A (simplificada)\n",
    "def generate_matrix_A(seed, k, q):\n",
    "    np.random.seed(int.from_bytes(seed, \"big\") % (2**32))\n",
    "    return np.random.randint(0, q, size=(k, k))\n",
    "\n",
    "# Función para muestrear errores desde una distribución gaussiana\n",
    "def sample_error(mu, k, q):\n",
    "    return np.round(np.random.normal(0, mu, size=(k, 1))).astype(int) % q"
   ]
  },
  {
   "cell_type": "markdown",
   "id": "520d173d-da1f-4fdf-bf3b-57d27c01e692",
   "metadata": {},
   "source": [
    "A continuacion se explica paso a paso el algoritmo:\n",
    "\n",
    "1. **Generación de la matriz pública A:**\n",
    "   En el segundo paso se define A como una matriz pública de tamaño $k∙k$ cuyos elementos son tomados de un conjunto de enteros módulo $q$ (del conjunto $R_q$). PSR es un proceso de muestreo que genera valores aleatorios para A.\n",
    "\n",
    "2. **Generación de los vectores secreto y de error:**\n",
    "   En el tercer y cuarto pasos se generan los vectores $s$ y $e$. El vector secreto $s$ es un vector aleatorio de $k$ elementos, cuyos valores provienen de una distribución  $\\beta_{\\mu_1}$. Esta distribución controla la cantidad de ruido o error en el sistema. De manera similar, el vector $e$ también se genera a partir de la misma distribución. El vector $e$ representa el error que se agrega a la multiplicación de $A$ y $s$ para asegurar la seguridad del sistema.\n",
    "\n",
    "4. **Cálculo de la clave pública:**\n",
    "   Seguidamente, se calcula la clave pública $b$ como el resultado de multiplicar la matriz $A$ por el vector secreto $s$ y luego agregar el vector de error $e$. Esto crea un error en el producto para hacer que sea difícil de resolver para un atacante, incluso si conoce la matriz $A$.\n",
    "\n",
    "5. **Construcción de las claves pública y privada:**\n",
    "   En los pasos sexto y séptimo se construyen las claves pública y privada. En primer lugar, la clave pública $pk$ se forma concatenando el vector $b$ con la semilla $seed A$. Esto asegura que cualquier persona que conozca $pk$ pueda verificar la autenticidad de $b$ y generar su propia clave compartida, pero no pueda conseguir fácilmente $s$. Por otro lado, la clave privada $sk$ es simplemente el vector secreto $s$.\n",
    "\n",
    "6. **Devolución de las claves:**\n",
    "   Por último, el algoritmo devuelve la clave pública $pk$ y la clave privada $sk$.\n"
   ]
  },
  {
   "cell_type": "code",
   "execution_count": 4,
   "id": "e80178a5-3ed1-417b-83c5-80a87b30c229",
   "metadata": {},
   "outputs": [],
   "source": [
    "# Algoritmo 1: Generación de Claves G'\n",
    "def key_generation():\n",
    "    seed_A = generate_seed()  # Genera semilla\n",
    "    A = generate_matrix_A(seed_A, k, q)  # Matriz A en R_q^(k×k)\n",
    "    \n",
    "    s = sample_error(mu_1, k, q)  # Vector s con distribución de error\n",
    "    e = sample_error(mu_1, k, q)  # Vector e con distribución de error\n",
    "\n",
    "    b = (A @ s + e) % q  # Producto matricial con ruido\n",
    "\n",
    "    pk = (b, seed_A)  # Clave pública: (b || seed_A)\n",
    "    sk = s  # Clave secreta: s\n",
    "\n",
    "    return pk, sk"
   ]
  },
  {
   "cell_type": "markdown",
   "id": "39fc2502-7f6d-4fde-96b7-f323e37c4c6a",
   "metadata": {},
   "source": [
    "---\n",
    "# 4. Algoritmo de cifrado"
   ]
  },
  {
   "cell_type": "markdown",
   "id": "644c2bb0-11ed-4e78-84a9-74f1d5fd5486",
   "metadata": {},
   "source": [
    "El algoritmo de cifrado recibe como parámetros de entrada la clave pública $pk$ generada en el paso anterior, y con ella el vector $b$ y la $seed A$ que usará para la generacion de la matriz $A$ tranpuesta. Posteriormente sigue los siguientes pasos:\n",
    "\n",
    "1. **Generación del vector aleatorio $r$:**  \n",
    "   Seguidamente, generamos un vector $r$ aleatorio de longitud $k$, cuyos valores se extraen de una distribución $\\beta_{\\mu_1}$ para generar ruido en el cifrado.\n",
    "\n",
    "2. **Generación de los vectores de error $e_1$ y $e_2$:**  \n",
    "   En los pasos cuarto y quinto, generamos los vectores de error $e_1$ y $e_2$.  \n",
    "   - El vector $e_1$ es de longitud $k$ y se genera de acuerdo con la distribución $\\beta_{\\mu_2}$, que controla el error en la multiplicación de matrices durante el proceso de cifrado.  \n",
    "   - El vector $e_2$ es un vector de longitud $1$, generado también a partir de la misma distribución. Este se utilizará en el cálculo del componente de la clave en el mensaje cifrado.\n",
    "\n",
    "3. **Cálculo de $u$ y $v$:**  \n",
    "   En los siguientes pasos, calculamos los componentes del mensaje cifrado:  \n",
    "   - El primer componente, $u$, se calcula multiplicando la matriz $A^T$ por el vector $r$ y luego sumando el vector de error $e_1$. Esto asegura que $u$ dependa de la clave pública y del ruido.  \n",
    "   - El segundo componente, $v$, se calcula tomando el producto $b$ (la clave pública) con el vector $r$, sumando el error $e_2$ y finalmente añadiendo el mensaje $m$. Esto garantiza que $v$ contenga la información del mensaje cifrado de manera que solo la persona con la clave privada pueda descifrarlo.\n",
    "\n",
    "4. **Generación del mensaje cifrado final:**  \n",
    "   Por último, concatenamos $u$ y $v$ como el mensaje cifrado final $c$, el cual devuelve el algoritmo.\n"
   ]
  },
  {
   "cell_type": "code",
   "execution_count": 6,
   "id": "75903294-a222-44e3-aae1-5b93dd1c233d",
   "metadata": {},
   "outputs": [],
   "source": [
    "# Algoritmo 2: Cifrado E(pk, m, r)\n",
    "def encrypt(pk, m):\n",
    "    b, seed_A = pk\n",
    "    r = sample_error(mu_1, k, q)  # Generar el vector r con errores\n",
    "    e_1 = sample_error(mu_1, k, q)  # Error en u\n",
    "    e_2 = sample_error(mu_1, k, q)  # Error en v\n",
    "\n",
    "    # Reconstruir A^T desde la semilla seed_A\n",
    "    A = generate_matrix_A(seed_A, k, q)  # Reconstruir A desde la semilla\n",
    "    A_T = A.T  # Transponer la matriz A para obtener A^T\n",
    "\n",
    "    # Calcular u = A^T * r + e_1\n",
    "    u = (A_T @ r + e_1) % q\n",
    "\n",
    "    # Calcular v = b^T * r + e_2 + m\n",
    "    v = (b.T @ r + e_2 + m) % q\n",
    "\n",
    "    # El cifrado es el par (u, v)\n",
    "    c = (u, v)\n",
    "    return c, r, e_1, e_2"
   ]
  },
  {
   "cell_type": "markdown",
   "id": "77220a0c-7a81-4fae-90c9-fa5a3af0b4f5",
   "metadata": {},
   "source": [
    "---\n",
    "# 5. Algoritmo de descifrado"
   ]
  },
  {
   "cell_type": "markdown",
   "id": "4d4b84ca-5ab9-4446-b88d-26c9c1f56ac2",
   "metadata": {},
   "source": [
    "El propósito del algoritmo de descifrado es recuperar el mensaje original a partir del mensaje cifrado $c$ y la clave secreta $sk$.  \n",
    "- La clave secreta $sk$ es el vector secreto $s$, que el receptor mantiene de forma privada.  \n",
    "- El mensaje cifrado $c$, como vimos en el esquema anterior, es el resultado del algoritmo de cifrado y consiste en la concatenación de los componentes $u$ y $v$.\n",
    "\n",
    "### Pasos del descifrado  \n",
    "\n",
    "1. **Descomposición del mensaje cifrado:**  \n",
    "   Primero, se descompone $c$ para obtener $u$ y $v$, los cuales son necesarios para recuperar $m$.  \n",
    "\n",
    "2. **Recuperación del mensaje original:**  \n",
    "   Aplicando la ecuación correspondiente y usando la clave secreta $sk$, se obtiene el mensaje original $m$.  \n"
   ]
  },
  {
   "cell_type": "code",
   "execution_count": 7,
   "id": "fb268192-e510-4fc6-9b85-3a205be57724",
   "metadata": {},
   "outputs": [],
   "source": [
    "# Algoritmo 3: Descifrado D(sk, c)\n",
    "def decrypt(sk, c):\n",
    "    u, v = c\n",
    "    s = sk  # La clave secreta s\n",
    "\n",
    "    # Calcular m = v - s^T * u\n",
    "    m_recovered = (v - (s.T @ u)) % q\n",
    "\n",
    "    return m_recovered"
   ]
  },
  {
   "cell_type": "markdown",
   "id": "e5bc67bd-de6d-43f6-b0f6-2f4f2994a356",
   "metadata": {},
   "source": [
    "---\n",
    "# 6. Ejemplo de uso"
   ]
  },
  {
   "cell_type": "markdown",
   "id": "acfc0697-5a92-41fe-9f41-a5bb44e236eb",
   "metadata": {},
   "source": [
    "A continuación se muestra un ejemplo de uso concatenando los tres algoritmos:"
   ]
  },
  {
   "cell_type": "code",
   "execution_count": 11,
   "id": "8c49b5e0-f7a9-439e-91de-d75c605b4336",
   "metadata": {},
   "outputs": [
    {
     "name": "stdout",
     "output_type": "stream",
     "text": [
      "Clave Pública (pk):\n",
      "b: [[219]\n",
      " [522]\n",
      " [134]]\n",
      "seed_A: b'\\xdcO\\x919EJ\\xad \\xbfRm\\x15\\xdah\\x9b\\xfd'\n",
      "\n",
      "Clave Secreta (sk):\n",
      "[[  0]\n",
      " [  0]\n",
      " [742]]\n",
      "\n",
      "Mensaje original (m):\n",
      "[[1]\n",
      " [2]\n",
      " [3]]\n",
      "\n",
      "Cifrado (u, v):\n",
      "u: [[573]\n",
      " [365]\n",
      " [526]]\n",
      "v: [[222]\n",
      " [223]\n",
      " [223]]\n",
      "\n",
      "Vectores y errores generados durante el cifrado:\n",
      "r (vector aleatorio r): [[  0]\n",
      " [742]\n",
      " [  0]]\n",
      "e_1 (error en u): [[0]\n",
      " [0]\n",
      " [1]]\n",
      "e_2 (error en v): [[  0]\n",
      " [  0]\n",
      " [742]]\n",
      "\n",
      "Mensaje recuperado:\n",
      "[[5]\n",
      " [6]\n",
      " [6]]\n"
     ]
    }
   ],
   "source": [
    "# Ejemplo de uso:\n",
    "\n",
    "# 1. Generar las claves\n",
    "public_key, secret_key = key_generation()\n",
    "\n",
    "# Imprimir claves generadas\n",
    "print(\"Clave Pública (pk):\")\n",
    "print(\"b:\", public_key[0])\n",
    "print(\"seed_A:\", public_key[1])\n",
    "\n",
    "print(\"\\nClave Secreta (sk):\")\n",
    "print(secret_key)\n",
    "\n",
    "# 2. Definir y mostrar el mensaje original (m es un vector de tamaño k)\n",
    "m = np.array([1, 2, 3]).reshape((k, 1))  # Mensaje original (vector columna)\n",
    "print(\"\\nMensaje original (m):\")\n",
    "print(m)\n",
    "\n",
    "# 3. Cifrado del mensaje\n",
    "ciphertext, r, e_1, e_2 = encrypt(public_key, m)\n",
    "\n",
    "# Imprimir el cifrado y los vectores generados\n",
    "print(\"\\nCifrado (u, v):\")\n",
    "print(\"u:\", ciphertext[0])\n",
    "print(\"v:\", ciphertext[1])\n",
    "\n",
    "print(\"\\nVectores y errores generados durante el cifrado:\")\n",
    "print(\"r (vector aleatorio r):\", r)\n",
    "print(\"e_1 (error en u):\", e_1)\n",
    "print(\"e_2 (error en v):\", e_2)\n",
    "\n",
    "# 4. Descifrar el mensaje\n",
    "recovered_message = decrypt(secret_key, ciphertext)\n",
    "\n",
    "# Imprimir el mensaje recuperado\n",
    "print(\"\\nMensaje recuperado:\")\n",
    "print(recovered_message)\n"
   ]
  },
  {
   "cell_type": "code",
   "execution_count": null,
   "id": "1ea325ea-8ed2-47dd-8dd9-d2a210efe17e",
   "metadata": {},
   "outputs": [],
   "source": []
  }
 ],
 "metadata": {
  "kernelspec": {
   "display_name": "Python 3 (ipykernel)",
   "language": "python",
   "name": "python3"
  },
  "language_info": {
   "codemirror_mode": {
    "name": "ipython",
    "version": 3
   },
   "file_extension": ".py",
   "mimetype": "text/x-python",
   "name": "python",
   "nbconvert_exporter": "python",
   "pygments_lexer": "ipython3",
   "version": "3.12.7"
  }
 },
 "nbformat": 4,
 "nbformat_minor": 5
}
